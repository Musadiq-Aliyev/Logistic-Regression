{
 "cells": [
  {
   "cell_type": "code",
   "execution_count": 1,
   "metadata": {},
   "outputs": [],
   "source": [
    "#import libraries\n",
    "\n",
    "#import pandas for Loading data.\n",
    "import pandas as pd\n",
    "#import numpy.\n",
    "import numpy as np\n",
    "#import matplotlib for Visualization\n",
    "import matplotlib.pyplot as plt\n",
    "import math\n",
    "#import for accuracy_score\n",
    "from sklearn.metrics import accuracy_score"
   ]
  },
  {
   "cell_type": "code",
   "execution_count": 2,
   "metadata": {},
   "outputs": [],
   "source": [
    "#Loading data. Read the data from data file (exams.csv)\n",
    "#and extract 3 columns for model - collection of exam scores.\n",
    "\n",
    "dataset = pd.read_csv('exams.csv')\n",
    "columns = pd.DataFrame(dataset)\n",
    "columns = columns[[\"exam_1\", \"exam_2\", \"admitted\"]]\n"
   ]
  },
  {
   "cell_type": "code",
   "execution_count": 3,
   "metadata": {},
   "outputs": [],
   "source": [
    "exam_1 = columns['exam_1']\n",
    "exam_2 = columns['exam_2']\n",
    "admitted = columns['admitted']"
   ]
  },
  {
   "cell_type": "code",
   "execution_count": 4,
   "metadata": {},
   "outputs": [],
   "source": [
    "#Now we need save original [\"exam_1\", \"exam_2\", \"admitted\"] for future prediction\n",
    "exam_1_original = exam_1\n",
    "exam_2_original = exam_2\n",
    "admitted_original = admitted"
   ]
  },
  {
   "cell_type": "code",
   "execution_count": 5,
   "metadata": {},
   "outputs": [
    {
     "data": {
      "image/png": "[encoded data removed]",
      "text/plain": [
       "<Figure size 432x288 with 1 Axes>"
      ]
     },
     "metadata": {
      "needs_background": "light"
     },
     "output_type": "display_data"
    }
   ],
   "source": [
    "#Visualization part 1.\n",
    "#Plot a graph of first exam score vs second exam score.\n",
    "for adm in range (len(admitted)):\n",
    "    if admitted[adm] == 0:\n",
    "        plt.scatter(exam_1[adm],exam_2[adm], color='r')\n",
    "    else:\n",
    "        plt.scatter(exam_1[adm],exam_2[adm], color='g')\n",
    "plt.show()"
   ]
  },
  {
   "cell_type": "code",
   "execution_count": 6,
   "metadata": {},
   "outputs": [],
   "source": [
    "# normalization\n",
    "\n",
    "# normalization of exam_1\n",
    "exam_1_nor = (exam_1 - min(exam_1))/(max(exam_1) - min(exam_1))\n",
    "# normalization of exam_2\n",
    "exam_2_nor = (exam_2 - min(exam_2))/(max(exam_2) - min(exam_2))\n",
    "# normalization of admitted\n",
    "admitted_norm = (admitted - min(admitted))/(max(admitted) - min(admitted))\n"
   ]
  },
  {
   "cell_type": "code",
   "execution_count": 7,
   "metadata": {},
   "outputs": [],
   "source": [
    "#lenght of our data\n",
    "lenght = len(admitted)\n",
    "#need for calculating X, theta0\n",
    "theta0 = np.ones(lenght)\n",
    "X = np.array([theta0, exam_1, exam_2]).T\n",
    "# Initial Coefficients\n",
    "theta = np.array([0, 0, 0])\n",
    "Y = np.array(admitted)\n"
   ]
  },
  {
   "cell_type": "code",
   "execution_count": 8,
   "metadata": {},
   "outputs": [],
   "source": [
    "#Sigmoid function. Implement a function \n",
    "#which returns sigmoid of a value given the value.\n",
    "def sigmoid(z):\n",
    "    return 1 / (1 + np.exp(-z))\n",
    "\n",
    "sig = sigmoid(X.dot(theta))"
   ]
  },
  {
   "cell_type": "code",
   "execution_count": 9,
   "metadata": {},
   "outputs": [
    {
     "data": {
      "text/plain": [
       "array([0.5, 0.5, 0.5, 0.5, 0.5, 0.5, 0.5, 0.5, 0.5, 0.5, 0.5, 0.5, 0.5,\n",
       "       0.5, 0.5, 0.5, 0.5, 0.5, 0.5, 0.5, 0.5, 0.5, 0.5, 0.5, 0.5, 0.5,\n",
       "       0.5, 0.5, 0.5, 0.5, 0.5, 0.5, 0.5, 0.5, 0.5, 0.5, 0.5, 0.5, 0.5,\n",
       "       0.5, 0.5, 0.5, 0.5, 0.5, 0.5, 0.5, 0.5, 0.5, 0.5, 0.5, 0.5, 0.5,\n",
       "       0.5, 0.5, 0.5, 0.5, 0.5, 0.5, 0.5, 0.5, 0.5, 0.5, 0.5, 0.5, 0.5,\n",
       "       0.5, 0.5, 0.5, 0.5, 0.5, 0.5, 0.5, 0.5, 0.5, 0.5, 0.5, 0.5, 0.5,\n",
       "       0.5, 0.5, 0.5, 0.5, 0.5, 0.5, 0.5, 0.5, 0.5, 0.5, 0.5, 0.5, 0.5,\n",
       "       0.5, 0.5, 0.5, 0.5, 0.5, 0.5, 0.5, 0.5, 0.5])"
      ]
     },
     "execution_count": 9,
     "metadata": {},
     "output_type": "execute_result"
    }
   ],
   "source": [
    "#print sigmoid function\n",
    "sig"
   ]
  },
  {
   "cell_type": "code",
   "execution_count": 10,
   "metadata": {},
   "outputs": [
    {
     "name": "stdout",
     "output_type": "stream",
     "text": [
      "Cost_Function: 0.6911491778972723\n"
     ]
    }
   ],
   "source": [
    "#Cost Function\n",
    "#Implement the following cost function.\n",
    "def cost_func(X, Y, theta):\n",
    "    lenght = len(Y)\n",
    "    eps = 0.001\n",
    "    #CF - cost function\n",
    "    H = sigmoid(X.dot(theta))\n",
    "    CF = np.sum(Y * np.log(H + eps) + (1 - Y) * np.log(1 - H + eps)) / (-lenght)\n",
    "    return CF\n",
    "\n",
    "print(\"Cost_Function:\", cost_func(X, Y, theta))\n"
   ]
  },
  {
   "cell_type": "code",
   "execution_count": 11,
   "metadata": {},
   "outputs": [],
   "source": [
    "#Gradient descent implementation from scratch.\n",
    "\n",
    "alpha = 0.001\n",
    "def Gradient_Descent(theta, alpha, X , Y):\n",
    "    m = X.shape[0]\n",
    "    H = sigmoid(np.matmul(X, theta))\n",
    "    grd = np.matmul(X.T, (H - Y)) / m;\n",
    "    theta = theta - alpha * grd\n",
    "    return theta\n"
   ]
  },
  {
   "cell_type": "code",
   "execution_count": 12,
   "metadata": {
    "scrolled": true
   },
   "outputs": [
    {
     "name": "stdout",
     "output_type": "stream",
     "text": [
      "0.6957833844759158\n",
      "0.6136079239463761\n",
      "0.6001006559497475\n",
      "0.5872733295529242\n",
      "0.5750901716491602\n",
      "0.5635164118805566\n",
      "0.5525184490902703\n",
      "0.5420639766545958\n",
      "0.5321220709095009\n",
      "0.5226632472393646\n",
      "0.5136594884702247\n",
      "0.5050842500730667\n",
      "0.49691244639719756\n",
      "0.4891204217738515\n",
      "0.4816859099001079\n",
      "0.4745879844670822\n",
      "0.46780700355905763\n",
      "0.4613245499384044\n",
      "0.4551233689552134\n",
      "0.4491873054857367\n",
      "0.44350124101159744\n",
      "0.43805103170141124\n",
      "0.43282344814528917\n",
      "0.4278061172171849\n",
      "0.42298746639616946\n",
      "0.41835667076142485\n",
      "0.4139036027830309\n",
      "0.40961878495787885\n",
      "0.40549334528392855\n",
      "0.4015189755236023\n",
      "0.39768789217592504\n",
      "0.3939928000548022\n",
      "0.3904268583558455\n",
      "0.3869836490848711\n"
     ]
    }
   ],
   "source": [
    "#number of iteration\n",
    "num_itr = 100000\n",
    "cost_array = np.zeros(num_itr)\n",
    "#learning rate\n",
    "lrng_rate = 1e-3\n",
    "\n",
    "for i in range(num_itr):\n",
    "    theta = Gradient_Descent(theta, lrng_rate, X, Y)\n",
    "    if i % 3000 == 0:\n",
    "        print(cost_func(X, Y, theta))\n",
    "        \n",
    "    new_cost =  cost_func(X, Y, theta)\n",
    "    cost_array[i] = new_cost\n",
    "    "
   ]
  },
  {
   "cell_type": "code",
   "execution_count": 13,
   "metadata": {},
   "outputs": [
    {
     "data": {
      "text/plain": [
       "array([-4.81180027,  0.04528064,  0.03819149])"
      ]
     },
     "execution_count": 13,
     "metadata": {},
     "output_type": "execute_result"
    }
   ],
   "source": [
    "#print(theta)\n",
    "theta"
   ]
  },
  {
   "cell_type": "code",
   "execution_count": 14,
   "metadata": {},
   "outputs": [],
   "source": [
    "#prediction\n",
    "from sklearn.metrics import f1_score\n",
    "prd = []\n",
    "\n",
    "for i in sigmoid(np.matmul(X, theta)):\n",
    "    if i > 0.5:\n",
    "        prd.append(1)\n",
    "    else:\n",
    "        prd.append(0)\n"
   ]
  },
  {
   "cell_type": "code",
   "execution_count": 15,
   "metadata": {},
   "outputs": [
    {
     "data": {
      "text/plain": [
       "[0,\n",
       " 0,\n",
       " 0,\n",
       " 1,\n",
       " 1,\n",
       " 0,\n",
       " 1,\n",
       " 1,\n",
       " 1,\n",
       " 1,\n",
       " 1,\n",
       " 0,\n",
       " 1,\n",
       " 1,\n",
       " 0,\n",
       " 1,\n",
       " 1,\n",
       " 1,\n",
       " 1,\n",
       " 1,\n",
       " 0,\n",
       " 1,\n",
       " 0,\n",
       " 0,\n",
       " 1,\n",
       " 1,\n",
       " 1,\n",
       " 1,\n",
       " 0,\n",
       " 0,\n",
       " 1,\n",
       " 1,\n",
       " 0,\n",
       " 1,\n",
       " 0,\n",
       " 0,\n",
       " 1,\n",
       " 1,\n",
       " 1,\n",
       " 0,\n",
       " 1,\n",
       " 0,\n",
       " 1,\n",
       " 1,\n",
       " 0,\n",
       " 0,\n",
       " 1,\n",
       " 1,\n",
       " 1,\n",
       " 1,\n",
       " 1,\n",
       " 1,\n",
       " 1,\n",
       " 0,\n",
       " 0,\n",
       " 0,\n",
       " 1,\n",
       " 1,\n",
       " 1,\n",
       " 1,\n",
       " 1,\n",
       " 0,\n",
       " 0,\n",
       " 0,\n",
       " 0,\n",
       " 0,\n",
       " 1,\n",
       " 0,\n",
       " 1,\n",
       " 1,\n",
       " 0,\n",
       " 1,\n",
       " 1,\n",
       " 1,\n",
       " 1,\n",
       " 1,\n",
       " 1,\n",
       " 1,\n",
       " 0,\n",
       " 1,\n",
       " 1,\n",
       " 1,\n",
       " 1,\n",
       " 1,\n",
       " 1,\n",
       " 1,\n",
       " 1,\n",
       " 1,\n",
       " 1,\n",
       " 0,\n",
       " 1,\n",
       " 1,\n",
       " 0,\n",
       " 1,\n",
       " 1,\n",
       " 1,\n",
       " 1,\n",
       " 1,\n",
       " 1,\n",
       " 1]"
      ]
     },
     "execution_count": 15,
     "metadata": {},
     "output_type": "execute_result"
    }
   ],
   "source": [
    "#print(prediction)\n",
    "prd"
   ]
  },
  {
   "cell_type": "code",
   "execution_count": 16,
   "metadata": {},
   "outputs": [
    {
     "name": "stdout",
     "output_type": "stream",
     "text": [
      "Accuracy: 0.91 %\n"
     ]
    }
   ],
   "source": [
    "#print accuracy\n",
    "\n",
    "print(\"Accuracy:\", accuracy_score(prd, admitted),\"%\")"
   ]
  },
  {
   "cell_type": "code",
   "execution_count": 17,
   "metadata": {},
   "outputs": [
    {
     "data": {
      "text/plain": [
       "0.9302325581395349"
      ]
     },
     "execution_count": 17,
     "metadata": {},
     "output_type": "execute_result"
    }
   ],
   "source": [
    "f1_score(prd,admitted)"
   ]
  },
  {
   "cell_type": "code",
   "execution_count": 18,
   "metadata": {},
   "outputs": [
    {
     "data": {
      "text/plain": [
       "[<matplotlib.lines.Line2D at 0x1a1cc2d860>]"
      ]
     },
     "execution_count": 18,
     "metadata": {},
     "output_type": "execute_result"
    },
    {
     "data": {
      "image/png": "[encoded data removed]",
      "text/plain": [
       "<Figure size 432x288 with 1 Axes>"
      ]
     },
     "metadata": {
      "needs_background": "light"
     },
     "output_type": "display_data"
    }
   ],
   "source": [
    "#Visualization part 2.\n",
    "#Array of costs at each iteration (Cost vs Iteration).\n",
    "\n",
    "cost_vs_itr = list(cost_array)\n",
    "num_itr = [x for x in range(1,100001)]\n",
    "plt.plot(num_itr, cost_vs_itr)"
   ]
  },
  {
   "cell_type": "code",
   "execution_count": 19,
   "metadata": {},
   "outputs": [
    {
     "data": {
      "image/png": "[encoded data removed]",
      "text/plain": [
       "<Figure size 432x288 with 1 Axes>"
      ]
     },
     "metadata": {
      "needs_background": "light"
     },
     "output_type": "display_data"
    }
   ],
   "source": [
    "#Visualization part 2.\n",
    "#Plot points of first exam score vs second exam score.\n",
    "\n",
    "x_min = 20  \n",
    "x_max = 100\n",
    "x2 = - (theta[0] + np.dot(theta[1], [x_min,x_max])) / theta[2]\n",
    "plt.plot([x_min, x_max], x2)\n",
    "for adm in range (len(admitted)):\n",
    "    if admitted[adm] == 0:\n",
    "        plt.scatter(exam_1[adm],exam_2[adm], color='r')\n",
    "    else:\n",
    "        plt.scatter(exam_1[adm],exam_2[adm], color='g')\n",
    "plt.show()"
   ]
  },
  {
   "cell_type": "code",
   "execution_count": 34,
   "metadata": {
    "scrolled": true
   },
   "outputs": [
    {
     "name": "stdout",
     "output_type": "stream",
     "text": [
      "Prediction: [0 0]\n"
     ]
    }
   ],
   "source": [
    "#Test.\n",
    "from sklearn.linear_model import LogisticRegression\n",
    "\n",
    "exam_test_1 = [55,70,1]\n",
    "exam_test_2 = [40,60,0]\n",
    "\n",
    "exam_x_test = [exam_test_1[0:3], exam_test_2[0:3]]\n",
    "\n",
    "test_regression = LogisticRegression(solver = 'lbfgs').fit(X,Y)\n",
    "test_predicted_y = test_regression.predict(exam_x_test)\n",
    "\n",
    "print(\"Prediction:\", test_predicted_y)"
   ]
  },
  {
   "cell_type": "code",
   "execution_count": 23,
   "metadata": {},
   "outputs": [
    {
     "name": "stderr",
     "output_type": "stream",
     "text": [
      "/Users/ibaghirov2019/anaconda3/lib/python3.7/site-packages/sklearn/linear_model/logistic.py:433: FutureWarning: Default solver will be changed to 'lbfgs' in 0.22. Specify a solver to silence this warning.\n",
      "  FutureWarning)\n"
     ]
    }
   ],
   "source": [
    "#Solve same problem by Logistic \n",
    "#Regression with regularization using library and test.\n",
    "\n",
    "from sklearn.linear_model import LogisticRegression\n",
    "from sklearn.metrics import accuracy_score \n",
    "\n",
    "sklearn_model = LogisticRegression()\n",
    "sklearn_model.fit(X, Y)\n",
    "sklearn_prd = sklearn_model.predict(X)\n",
    "sklearn_accuracy_score = accuracy_score(Y.flatten(),sklearn_prd)\n",
    "sklearn_theta = sklearn_model.coef_"
   ]
  },
  {
   "cell_type": "code",
   "execution_count": 24,
   "metadata": {},
   "outputs": [
    {
     "data": {
      "text/plain": [
       "array([0, 0, 0, 1, 1, 0, 1, 1, 1, 1, 1, 0, 1, 1, 0, 1, 1, 0, 1, 1, 0, 1,\n",
       "       0, 0, 1, 1, 1, 1, 0, 0, 1, 1, 0, 1, 0, 0, 1, 1, 1, 0, 1, 0, 1, 1,\n",
       "       0, 0, 1, 1, 1, 1, 1, 1, 1, 0, 0, 0, 1, 1, 1, 1, 1, 0, 0, 0, 0, 0,\n",
       "       1, 0, 1, 1, 0, 1, 1, 1, 1, 1, 1, 1, 0, 1, 1, 1, 1, 0, 1, 1, 1, 1,\n",
       "       1, 0, 1, 1, 0, 1, 1, 1, 1, 1, 1, 1])"
      ]
     },
     "execution_count": 24,
     "metadata": {},
     "output_type": "execute_result"
    }
   ],
   "source": [
    "#prediction\n",
    "sklearn_prd"
   ]
  },
  {
   "cell_type": "code",
   "execution_count": 25,
   "metadata": {},
   "outputs": [
    {
     "name": "stdout",
     "output_type": "stream",
     "text": [
      "Accuracy: 0.91 %\n"
     ]
    }
   ],
   "source": [
    "#accuracy\n",
    "print(\"Accuracy:\", sklearn_accuracy_score,\"%\")"
   ]
  },
  {
   "cell_type": "code",
   "execution_count": 26,
   "metadata": {},
   "outputs": [
    {
     "data": {
      "text/plain": [
       "array([[-2.85831439,  0.05214733,  0.04531467]])"
      ]
     },
     "execution_count": 26,
     "metadata": {},
     "output_type": "execute_result"
    }
   ],
   "source": [
    "sklearn_theta"
   ]
  },
  {
   "cell_type": "code",
   "execution_count": null,
   "metadata": {},
   "outputs": [],
   "source": []
  },
  {
   "cell_type": "code",
   "execution_count": null,
   "metadata": {},
   "outputs": [],
   "source": []
  }
 ],
 "metadata": {
  "kernelspec": {
   "display_name": "Python 3",
   "language": "python",
   "name": "python3"
  },
  "language_info": {
   "codemirror_mode": {
    "name": "ipython",
    "version": 3
   },
   "file_extension": ".py",
   "mimetype": "text/x-python",
   "name": "python",
   "nbconvert_exporter": "python",
   "pygments_lexer": "ipython3",
   "version": "3.7.2"
  }
 },
 "nbformat": 4,
 "nbformat_minor": 2
}
